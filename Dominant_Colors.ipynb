{
  "nbformat": 4,
  "nbformat_minor": 0,
  "metadata": {
    "colab": {
      "provenance": [],
      "authorship_tag": "ABX9TyMRGQV2r3NZqnqS5jvMAehL",
      "include_colab_link": true
    },
    "kernelspec": {
      "name": "python3",
      "display_name": "Python 3"
    },
    "language_info": {
      "name": "python"
    }
  },
  "cells": [
    {
      "cell_type": "markdown",
      "metadata": {
        "id": "view-in-github",
        "colab_type": "text"
      },
      "source": [
        "<a href=\"https://colab.research.google.com/github/watersavvy/CV_Projects/blob/main/Dominant_Colors.ipynb\" target=\"_parent\"><img src=\"https://colab.research.google.com/assets/colab-badge.svg\" alt=\"Open In Colab\"/></a>"
      ]
    },
    {
      "cell_type": "code",
      "source": [
        "from google.colab import drive\n",
        "drive.mount('/content/drive')"
      ],
      "metadata": {
        "colab": {
          "base_uri": "https://localhost:8080/"
        },
        "id": "OaOToqzl6GNX",
        "outputId": "719b883b-752d-4fca-d797-7b45d362d21c"
      },
      "execution_count": 1,
      "outputs": [
        {
          "output_type": "stream",
          "name": "stdout",
          "text": [
            "Mounted at /content/drive\n"
          ]
        }
      ]
    },
    {
      "cell_type": "code",
      "source": [
        "import cv2\n",
        "import numpy as np\n",
        "import matplotlib.pyplot as plt\n",
        "from sklearn.cluster import KMeans\n",
        "import imutils\n",
        "\n",
        "clusters = 5 #try different quantities\n",
        "\n",
        "img = cv2.imread('/content/drive/MyDrive/Fare Thee Well.jpg')\n",
        "org_img = img.copy()\n",
        "print('Org image shape --> ',img.shape)\n",
        "\n",
        "img = imutils.resize(img, height=200)\n",
        "print('After resizing shape --> ',img.shape)\n",
        "\n",
        "flat_img = np.reshape(img, (-1,3))\n",
        "print('Afer Flattening shape --> ',flat_img.shape)\n",
        "\n",
        "kmeans = KMeans(n_clusters=clusters, random_state=0)\n",
        "kmeans.fit(flat_img)\n",
        "\n",
        "dominant_colors = np.array(kmeans.cluster_centers_,dtype='uint')\n",
        "\n",
        "percentages = (np.unique(kmeans.labels_, return_counts=True)[1])/flat_img.shape[0]\n",
        "p_and_c = zip(percentages, dominant_colors)\n",
        "p_and_c = sorted(p_and_c, reverse=True)\n",
        "\n",
        "block = np.ones((50,50,3), dtype='uint')\n",
        "plt.figure(figsize=(12,8))\n",
        "for i in range(clusters):\n",
        "  plt.subplot(1, clusters, i+1)\n",
        "  block[:] = p_and_c[i][1][::-1]\n",
        "  plt.imshow(block)\n",
        "  plt.xticks([])\n",
        "  plt.yticks([])\n",
        "  plt.xlabel(str(round(p_and_c[i][0]*100,2))+'%')\n",
        "\n",
        "bar = np.ones((50,500,3), dtype='uint')\n",
        "plt.figure(figsize=(12,8))\n",
        "plt.title('Proportions of colors in the image')\n",
        "start = 0\n",
        "i = 1\n",
        "for p, c in p_and_c:\n",
        "  end = start+int(p*bar.shape[1])\n",
        "  if i == clusters:\n",
        "    bar[:, start:] = c[::-1]\n",
        "  else:\n",
        "    bar[:, start:end] = c[::-1]\n",
        "    start = end\n",
        "    end += 1\n",
        "\n",
        "plt.imshow(bar)\n",
        "plt.xticks([])\n",
        "plt.yticks([])\n",
        "\n",
        "rows = 1000\n",
        "cols = int((org_img.shape[0]/org_img.shape[1])*rows)\n",
        "img = cv2.resize(org_img,dsize=(rows,cols), interpolation=cv2.INTER_LINEAR)\n",
        "\n",
        "copy = img.copy()\n",
        "cv2.rectangle(copy,(rows//2-250,cols//2-90),(rows//2+250,cols//2+110),(255,255,255),-1)\n",
        "\n",
        "final = cv2.addWeighted(img,0.1,copy,0.9,0)\n",
        "cv2.putText(final,'Most Dominant Colors in the Image',(rows//2-230,cols//2-40),cv2.FONT_HERSHEY_DUPLEX,0.8,(0,0,0),1,cv2.LINE_AA)\n",
        "\n",
        "\n",
        "start = rows//2-220\n",
        "for i in range(5):\n",
        "    end = start+70\n",
        "    final[cols//2:cols//2+70,start:end] = p_and_c[i][1]\n",
        "    cv2.putText(final,str(i+1),(start+25,cols//2+45),cv2.FONT_HERSHEY_DUPLEX,1,(255,255,255),1,cv2.LINE_AA)\n",
        "    start = end+20\n",
        "\n",
        "plt.show()\n",
        "\n",
        "#cv2.imshow('img', final)\n",
        "cv2.waitKey(0)\n",
        "#cv2.destroyALLWindows()\n",
        "cv2.imwrite('output.png', final)\n"
      ],
      "metadata": {
        "colab": {
          "base_uri": "https://localhost:8080/",
          "height": 423
        },
        "id": "Nf9gUYY35Jcc",
        "outputId": "58481923-0f20-4d0b-cf83-63400791065a"
      },
      "execution_count": 12,
      "outputs": [
        {
          "output_type": "stream",
          "name": "stdout",
          "text": [
            "Org image shape -->  (639, 1519, 3)\n",
            "After resizing shape -->  (200, 475, 3)\n",
            "Afer Flattening shape -->  (95000, 3)\n"
          ]
        },
        {
          "output_type": "stream",
          "name": "stderr",
          "text": [
            "/usr/local/lib/python3.10/dist-packages/sklearn/cluster/_kmeans.py:870: FutureWarning: The default value of `n_init` will change from 10 to 'auto' in 1.4. Set the value of `n_init` explicitly to suppress the warning\n",
            "  warnings.warn(\n"
          ]
        },
        {
          "output_type": "display_data",
          "data": {
            "text/plain": [
              "<Figure size 1200x800 with 5 Axes>"
            ],
            "image/png": "[encoded data removed]"
          },
          "metadata": {}
        },
        {
          "output_type": "display_data",
          "data": {
            "text/plain": [
              "<Figure size 1200x800 with 1 Axes>"
            ],
            "image/png": "[encoded data removed]"
          },
          "metadata": {}
        },
        {
          "output_type": "execute_result",
          "data": {
            "text/plain": [
              "True"
            ]
          },
          "metadata": {},
          "execution_count": 12
        }
      ]
    },
    {
      "cell_type": "markdown",
      "source": [
        "Code by Abhishek Sharma [**X**](https://machinelearningprojects.net/most-dominant-colors-in-an-image/#google_vignette)"
      ],
      "metadata": {
        "id": "FUG_G8YOHW_F"
      }
    }
  ]
}